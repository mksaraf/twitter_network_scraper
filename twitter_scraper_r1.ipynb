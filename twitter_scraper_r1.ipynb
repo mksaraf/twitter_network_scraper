{
 "cells": [
  {
   "cell_type": "markdown",
   "metadata": {},
   "source": [
    "### Scraping Twitter Network Tweets\n",
    "https://github.com/Jefferson-Henrique/GetOldTweets-python"
   ]
  },
  {
   "cell_type": "code",
   "execution_count": 1,
   "metadata": {},
   "outputs": [
    {
     "data": {
      "text/plain": [
       "'C:\\\\Users\\\\pparker.KLASJ\\\\Desktop\\\\tscrape\\\\GetOldTweets-python'"
      ]
     },
     "execution_count": 1,
     "metadata": {},
     "output_type": "execute_result"
    }
   ],
   "source": [
    "import pandas as pd\n",
    "import got3\n",
    "from tqdm import tqdm_notebook\n",
    "\n",
    "import os\n",
    "os.getcwd()"
   ]
  },
  {
   "cell_type": "code",
   "execution_count": 2,
   "metadata": {},
   "outputs": [
    {
     "name": "stdout",
     "output_type": "stream",
     "text": [
      "Notre Dame is one of the world’s great treasures, and we’re thinking of the people of France in your time of grief. It’s in our nature to mourn when we see history lost – but it’s also in our nature to rebuild for tomorrow, as strong as we can.pic.twitter.com/SpMEvv1BzB\n"
     ]
    }
   ],
   "source": [
    "# scrape a tweet sample\n",
    "tweetCriteria = got3.manager.TweetCriteria().setUsername('barackobama').setMaxTweets(1)\n",
    "tweet = got3.manager.TweetManager.getTweets(tweetCriteria)[0]\n",
    " \n",
    "print(tweet.text)"
   ]
  },
  {
   "cell_type": "code",
   "execution_count": 3,
   "metadata": {},
   "outputs": [],
   "source": [
    "# assign twitter account for network leader\n",
    "leader = \"Cointelegraph\""
   ]
  },
  {
   "cell_type": "code",
   "execution_count": 4,
   "metadata": {},
   "outputs": [],
   "source": [
    "# configure the scraper\n",
    "tweetCriteria = got3.manager.TweetCriteria().setUsername(leader).setSince(\"2019-04-12\").setUntil(\"2019-04-16\").setMaxTweets(2000)\n",
    "tweet = got3.manager.TweetManager.getTweets(tweetCriteria)"
   ]
  },
  {
   "cell_type": "code",
   "execution_count": 5,
   "metadata": {},
   "outputs": [
    {
     "data": {
      "text/html": [
       "<div>\n",
       "<style scoped>\n",
       "    .dataframe tbody tr th:only-of-type {\n",
       "        vertical-align: middle;\n",
       "    }\n",
       "\n",
       "    .dataframe tbody tr th {\n",
       "        vertical-align: top;\n",
       "    }\n",
       "\n",
       "    .dataframe thead th {\n",
       "        text-align: right;\n",
       "    }\n",
       "</style>\n",
       "<table border=\"1\" class=\"dataframe\">\n",
       "  <thead>\n",
       "    <tr style=\"text-align: right;\">\n",
       "      <th></th>\n",
       "      <th>date</th>\n",
       "      <th>tweet</th>\n",
       "      <th>id</th>\n",
       "    </tr>\n",
       "  </thead>\n",
       "  <tbody>\n",
       "    <tr>\n",
       "      <th>0</th>\n",
       "      <td>2019-04-15 15:58:36</td>\n",
       "      <td>ConsenSys is reportedly trying to attract outs...</td>\n",
       "      <td>Cointelegraph</td>\n",
       "    </tr>\n",
       "    <tr>\n",
       "      <th>1</th>\n",
       "      <td>2019-04-15 15:11:55</td>\n",
       "      <td>Don't miss the most memorable quotes from last...</td>\n",
       "      <td>Cointelegraph</td>\n",
       "    </tr>\n",
       "    <tr>\n",
       "      <th>2</th>\n",
       "      <td>2019-04-15 15:09:47</td>\n",
       "      <td>Portland State University researchers have pre...</td>\n",
       "      <td>Cointelegraph</td>\n",
       "    </tr>\n",
       "    <tr>\n",
       "      <th>3</th>\n",
       "      <td>2019-04-15 14:01:08</td>\n",
       "      <td>Reuters: France to ask other EU states to adop...</td>\n",
       "      <td>Cointelegraph</td>\n",
       "    </tr>\n",
       "    <tr>\n",
       "      <th>4</th>\n",
       "      <td>2019-04-15 13:11:07</td>\n",
       "      <td>Ethereum engineer Lukas Hohl has joined Swissc...</td>\n",
       "      <td>Cointelegraph</td>\n",
       "    </tr>\n",
       "  </tbody>\n",
       "</table>\n",
       "</div>"
      ],
      "text/plain": [
       "                 date                                              tweet  \\\n",
       "0 2019-04-15 15:58:36  ConsenSys is reportedly trying to attract outs...   \n",
       "1 2019-04-15 15:11:55  Don't miss the most memorable quotes from last...   \n",
       "2 2019-04-15 15:09:47  Portland State University researchers have pre...   \n",
       "3 2019-04-15 14:01:08  Reuters: France to ask other EU states to adop...   \n",
       "4 2019-04-15 13:11:07  Ethereum engineer Lukas Hohl has joined Swissc...   \n",
       "\n",
       "              id  \n",
       "0  Cointelegraph  \n",
       "1  Cointelegraph  \n",
       "2  Cointelegraph  \n",
       "3  Cointelegraph  \n",
       "4  Cointelegraph  "
      ]
     },
     "execution_count": 5,
     "metadata": {},
     "output_type": "execute_result"
    }
   ],
   "source": [
    "# format network leader tweets into dataframe\n",
    "text_list = [i.text for i in tweet]\n",
    "date_list = [i.date for i in tweet]\n",
    "\n",
    "df_tweet = pd.DataFrame.from_dict({'date':date_list, 'tweet':text_list, 'id':[leader]*len(date_list)})\n",
    "df_tweet.head()"
   ]
  },
  {
   "cell_type": "code",
   "execution_count": 6,
   "metadata": {},
   "outputs": [
    {
     "data": {
      "text/html": [
       "<div>\n",
       "<style scoped>\n",
       "    .dataframe tbody tr th:only-of-type {\n",
       "        vertical-align: middle;\n",
       "    }\n",
       "\n",
       "    .dataframe tbody tr th {\n",
       "        vertical-align: top;\n",
       "    }\n",
       "\n",
       "    .dataframe thead th {\n",
       "        text-align: right;\n",
       "    }\n",
       "</style>\n",
       "<table border=\"1\" class=\"dataframe\">\n",
       "  <thead>\n",
       "    <tr style=\"text-align: right;\">\n",
       "      <th></th>\n",
       "      <th>Unnamed: 0</th>\n",
       "      <th>following</th>\n",
       "    </tr>\n",
       "  </thead>\n",
       "  <tbody>\n",
       "    <tr>\n",
       "      <th>0</th>\n",
       "      <td>0</td>\n",
       "      <td>binance</td>\n",
       "    </tr>\n",
       "    <tr>\n",
       "      <th>1</th>\n",
       "      <td>1</td>\n",
       "      <td>winklevoss</td>\n",
       "    </tr>\n",
       "    <tr>\n",
       "      <th>2</th>\n",
       "      <td>2</td>\n",
       "      <td>winklevosscap</td>\n",
       "    </tr>\n",
       "    <tr>\n",
       "      <th>3</th>\n",
       "      <td>3</td>\n",
       "      <td>LucreziaCorner</td>\n",
       "    </tr>\n",
       "    <tr>\n",
       "      <th>4</th>\n",
       "      <td>4</td>\n",
       "      <td>CointelegraphAr</td>\n",
       "    </tr>\n",
       "  </tbody>\n",
       "</table>\n",
       "</div>"
      ],
      "text/plain": [
       "   Unnamed: 0        following\n",
       "0           0          binance\n",
       "1           1       winklevoss\n",
       "2           2    winklevosscap\n",
       "3           3   LucreziaCorner\n",
       "4           4  CointelegraphAr"
      ]
     },
     "execution_count": 6,
     "metadata": {},
     "output_type": "execute_result"
    }
   ],
   "source": [
    "# import the leader's following list\n",
    "df_tid = pd.read_csv('cointelegraph_following.csv',index_col=False)\n",
    "df_tid.head()"
   ]
  },
  {
   "cell_type": "code",
   "execution_count": 14,
   "metadata": {},
   "outputs": [
    {
     "data": {
      "text/plain": [
       "'Cointelegraph'"
      ]
     },
     "execution_count": 14,
     "metadata": {},
     "output_type": "execute_result"
    }
   ],
   "source": [
    "# In case of time-out restart, find the last following id\n",
    "#df_tweet = pd.read_csv('df_tweet_r1.csv')\n",
    "df_tweet.tail(1)['id'].values[0]"
   ]
  },
  {
   "cell_type": "code",
   "execution_count": 22,
   "metadata": {},
   "outputs": [
    {
     "data": {
      "text/html": [
       "<div>\n",
       "<style scoped>\n",
       "    .dataframe tbody tr th:only-of-type {\n",
       "        vertical-align: middle;\n",
       "    }\n",
       "\n",
       "    .dataframe tbody tr th {\n",
       "        vertical-align: top;\n",
       "    }\n",
       "\n",
       "    .dataframe thead th {\n",
       "        text-align: right;\n",
       "    }\n",
       "</style>\n",
       "<table border=\"1\" class=\"dataframe\">\n",
       "  <thead>\n",
       "    <tr style=\"text-align: right;\">\n",
       "      <th></th>\n",
       "      <th>Unnamed: 0</th>\n",
       "      <th>following</th>\n",
       "    </tr>\n",
       "  </thead>\n",
       "  <tbody>\n",
       "    <tr>\n",
       "      <th>2</th>\n",
       "      <td>2</td>\n",
       "      <td>winklevosscap</td>\n",
       "    </tr>\n",
       "  </tbody>\n",
       "</table>\n",
       "</div>"
      ],
      "text/plain": [
       "   Unnamed: 0      following\n",
       "2           2  winklevosscap"
      ]
     },
     "execution_count": 22,
     "metadata": {},
     "output_type": "execute_result"
    }
   ],
   "source": [
    "# find the index of the last following\n",
    "df_tid.loc[df_tid['following']=='winklevosscap']"
   ]
  },
  {
   "cell_type": "code",
   "execution_count": 23,
   "metadata": {},
   "outputs": [
    {
     "data": {
      "application/vnd.jupyter.widget-view+json": {
       "model_id": "867c0bb186d2442895cfd7296cfa4846",
       "version_major": 2,
       "version_minor": 0
      },
      "text/plain": [
       "HBox(children=(IntProgress(value=0, max=218), HTML(value='')))"
      ]
     },
     "metadata": {},
     "output_type": "display_data"
    },
    {
     "name": "stdout",
     "output_type": "stream",
     "text": [
      "\n",
      "<class 'pandas.core.frame.DataFrame'>\n",
      "Int64Index: 4983 entries, 0 to 13\n",
      "Data columns (total 3 columns):\n",
      "date     4983 non-null datetime64[ns]\n",
      "tweet    4983 non-null object\n",
      "id       4983 non-null object\n",
      "dtypes: datetime64[ns](1), object(2)\n",
      "memory usage: 155.7+ KB\n"
     ]
    }
   ],
   "source": [
    "# Scrape the tweets of the leader\n",
    "for follower in tqdm_notebook(df_tid['following'][76:].tolist()):\n",
    "    \n",
    "    try:\n",
    "        tweetCriteria = got3.manager.TweetCriteria().setUsername(follower).setSince(\"2019-04-12\").setUntil(\"2019-04-19\").setMaxTweets(10000)\n",
    "        tweet = got3.manager.TweetManager.getTweets(tweetCriteria)\n",
    "        f_text_list = [i.text for i in tweet]\n",
    "        f_date_list = [i.date for i in tweet]\n",
    "\n",
    "        df_follow = pd.DataFrame.from_dict({'date':f_date_list, 'tweet':f_text_list, 'id':[follower]*len(f_date_list)})\n",
    "        df_tweet = pd.concat([df_tweet, df_follow])\n",
    "\n",
    "        df_tweet.to_csv('df_tweet_r1.csv',index=False, encoding='utf-8')\n",
    "        \n",
    "    except:\n",
    "        pass\n",
    "    \n",
    "df_tweet.info()"
   ]
  },
  {
   "cell_type": "code",
   "execution_count": 24,
   "metadata": {},
   "outputs": [
    {
     "name": "stdout",
     "output_type": "stream",
     "text": [
      "de\n"
     ]
    }
   ],
   "source": [
    "from langdetect import detect\n",
    "\n",
    "lang = detect(\"Ein, zwei, drei, vier\")\n",
    "\n",
    "print(lang)\n",
    "#output: de"
   ]
  },
  {
   "cell_type": "code",
   "execution_count": 25,
   "metadata": {},
   "outputs": [
    {
     "data": {
      "application/vnd.jupyter.widget-view+json": {
       "model_id": "5a5a68371ebf44c092d8da1636f6a902",
       "version_major": 2,
       "version_minor": 0
      },
      "text/plain": [
       "HBox(children=(IntProgress(value=1, bar_style='info', max=1), HTML(value='')))"
      ]
     },
     "metadata": {},
     "output_type": "display_data"
    },
    {
     "name": "stdout",
     "output_type": "stream",
     "text": [
      "\n"
     ]
    },
    {
     "data": {
      "text/html": [
       "<div>\n",
       "<style scoped>\n",
       "    .dataframe tbody tr th:only-of-type {\n",
       "        vertical-align: middle;\n",
       "    }\n",
       "\n",
       "    .dataframe tbody tr th {\n",
       "        vertical-align: top;\n",
       "    }\n",
       "\n",
       "    .dataframe thead th {\n",
       "        text-align: right;\n",
       "    }\n",
       "</style>\n",
       "<table border=\"1\" class=\"dataframe\">\n",
       "  <thead>\n",
       "    <tr style=\"text-align: right;\">\n",
       "      <th></th>\n",
       "      <th>date</th>\n",
       "      <th>tweet</th>\n",
       "      <th>id</th>\n",
       "      <th>lang</th>\n",
       "    </tr>\n",
       "  </thead>\n",
       "  <tbody>\n",
       "    <tr>\n",
       "      <th>0</th>\n",
       "      <td>2019-04-15 15:58:36</td>\n",
       "      <td>ConsenSys is reportedly trying to attract outs...</td>\n",
       "      <td>Cointelegraph</td>\n",
       "      <td>en</td>\n",
       "    </tr>\n",
       "    <tr>\n",
       "      <th>1</th>\n",
       "      <td>2019-04-15 15:11:55</td>\n",
       "      <td>Don't miss the most memorable quotes from last...</td>\n",
       "      <td>Cointelegraph</td>\n",
       "      <td>en</td>\n",
       "    </tr>\n",
       "    <tr>\n",
       "      <th>2</th>\n",
       "      <td>2019-04-15 15:09:47</td>\n",
       "      <td>Portland State University researchers have pre...</td>\n",
       "      <td>Cointelegraph</td>\n",
       "      <td>en</td>\n",
       "    </tr>\n",
       "    <tr>\n",
       "      <th>3</th>\n",
       "      <td>2019-04-15 14:01:08</td>\n",
       "      <td>Reuters: France to ask other EU states to adop...</td>\n",
       "      <td>Cointelegraph</td>\n",
       "      <td>en</td>\n",
       "    </tr>\n",
       "    <tr>\n",
       "      <th>4</th>\n",
       "      <td>2019-04-15 13:11:07</td>\n",
       "      <td>Ethereum engineer Lukas Hohl has joined Swissc...</td>\n",
       "      <td>Cointelegraph</td>\n",
       "      <td>en</td>\n",
       "    </tr>\n",
       "  </tbody>\n",
       "</table>\n",
       "</div>"
      ],
      "text/plain": [
       "                 date                                              tweet  \\\n",
       "0 2019-04-15 15:58:36  ConsenSys is reportedly trying to attract outs...   \n",
       "1 2019-04-15 15:11:55  Don't miss the most memorable quotes from last...   \n",
       "2 2019-04-15 15:09:47  Portland State University researchers have pre...   \n",
       "3 2019-04-15 14:01:08  Reuters: France to ask other EU states to adop...   \n",
       "4 2019-04-15 13:11:07  Ethereum engineer Lukas Hohl has joined Swissc...   \n",
       "\n",
       "              id lang  \n",
       "0  Cointelegraph   en  \n",
       "1  Cointelegraph   en  \n",
       "2  Cointelegraph   en  \n",
       "3  Cointelegraph   en  \n",
       "4  Cointelegraph   en  "
      ]
     },
     "execution_count": 25,
     "metadata": {},
     "output_type": "execute_result"
    }
   ],
   "source": [
    "# detect languages\n",
    "lang_list = []\n",
    "\n",
    "for i,nrows in tqdm_notebook(df_tweet.iterrows()):\n",
    "    lang = \"\"\n",
    "    try:\n",
    "        lang = detect(nrows['tweet'])\n",
    "    except:\n",
    "        pass\n",
    "    \n",
    "    if len(lang)>0:\n",
    "        lang_list.append(lang)\n",
    "    else:\n",
    "        lang_list.append(None)\n",
    "    \n",
    "df_tweet['lang'] = lang_list\n",
    "    \n",
    "df_tweet.head()"
   ]
  },
  {
   "cell_type": "code",
   "execution_count": 27,
   "metadata": {},
   "outputs": [
    {
     "data": {
      "text/plain": [
       "410"
      ]
     },
     "execution_count": 27,
     "metadata": {},
     "output_type": "execute_result"
    }
   ],
   "source": [
    "# get number of non-English tweets\n",
    "sum([1 for lang in lang_list if lang != 'en'])"
   ]
  },
  {
   "cell_type": "code",
   "execution_count": 28,
   "metadata": {},
   "outputs": [],
   "source": [
    "# export tweets with language tag\n",
    "df_tweet.to_csv('df_tweet_r2.csv',index=False, encoding='utf-8')"
   ]
  },
  {
   "cell_type": "code",
   "execution_count": null,
   "metadata": {},
   "outputs": [],
   "source": []
  }
 ],
 "metadata": {
  "kernelspec": {
   "display_name": "Python 3",
   "language": "python",
   "name": "python3"
  },
  "language_info": {
   "codemirror_mode": {
    "name": "ipython",
    "version": 3
   },
   "file_extension": ".py",
   "mimetype": "text/x-python",
   "name": "python",
   "nbconvert_exporter": "python",
   "pygments_lexer": "ipython3",
   "version": "3.6.8"
  }
 },
 "nbformat": 4,
 "nbformat_minor": 2
}
